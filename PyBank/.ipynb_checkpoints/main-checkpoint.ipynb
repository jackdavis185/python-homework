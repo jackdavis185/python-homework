{
 "cells": [
  {
   "cell_type": "code",
   "execution_count": 23,
   "id": "9697d28c-890d-4b9d-aa97-c9b026432061",
   "metadata": {},
   "outputs": [],
   "source": [
    "# imports\n",
    "from pathlib import Path\n",
    "import csv\n",
    "csv_path = Path(\"./budget_data.csv\")"
   ]
  },
  {
   "cell_type": "code",
   "execution_count": 24,
   "id": "b465555e-7138-481b-b8b4-62a3973a49ab",
   "metadata": {},
   "outputs": [],
   "source": [
    "# CSV dictionary\n",
    "budget_data = {}"
   ]
  },
  {
   "cell_type": "code",
   "execution_count": 25,
   "id": "2e0947f6-da63-4d69-96b6-a97d485f8342",
   "metadata": {},
   "outputs": [],
   "source": [
    "# Variables\n",
    "total_months = 0\n",
    "net_total = 0\n",
    "average = 0\n",
    "greatest_increase_date = None\n",
    "greatest_increase_amount = 0.0\n",
    "greatest_decrease_date = None\n",
    "greatest_decrease_amount = 0.0"
   ]
  },
  {
   "cell_type": "code",
   "execution_count": 26,
   "id": "0a76514a-1857-4e30-93d1-c9e98583f449",
   "metadata": {},
   "outputs": [],
   "source": [
    "# Read CSV\n",
    "with open(csv_path, 'r') as csv_file:\n",
    "    csv_reader = csv.reader(csv_file, delimiter = ',')\n",
    "    budget_data = {rows[0]:rows[1] for rows in csv_reader}"
   ]
  },
  {
   "cell_type": "code",
   "execution_count": 27,
   "id": "a7bbeda2-4cab-4f4c-8b9d-84e4aef2b9bc",
   "metadata": {},
   "outputs": [
    {
     "data": {
      "text/plain": [
       "'Profit/Losses'"
      ]
     },
     "execution_count": 27,
     "metadata": {},
     "output_type": "execute_result"
    }
   ],
   "source": [
    "# Remove header\n",
    "budget_data.pop('Date')"
   ]
  },
  {
   "cell_type": "code",
   "execution_count": 28,
   "id": "584188c0-1bc7-4ec0-814d-ec4464e10cee",
   "metadata": {},
   "outputs": [],
   "source": [
    "# Loop\n",
    "for month in budget_data:\n",
    "    total_months += 1\n",
    "    month_budget = int(budget_data[month])\n",
    "    net_total += month_budget\n",
    "    \n",
    "    if month_budget > greatest_increase_amount:\n",
    "        greatest_increase_amount = month_budget\n",
    "        greatest_increase_date = month\n",
    "        \n",
    "    elif month_budget < greatest_decrease_amount:\n",
    "        greatest_decrease_amount = month_budget\n",
    "        greatest_decrease_date = month"
   ]
  },
  {
   "cell_type": "code",
   "execution_count": 29,
   "id": "4d67ca68-6756-447e-9534-c3db9159d72e",
   "metadata": {},
   "outputs": [],
   "source": [
    "# Calculate average profits/losses\n",
    "average = net_total / total_months"
   ]
  },
  {
   "cell_type": "code",
   "execution_count": 30,
   "id": "00f80801-134c-43ac-bac3-99e6c77f1b44",
   "metadata": {},
   "outputs": [
    {
     "name": "stdout",
     "output_type": "stream",
     "text": [
      "Financial Analysis\n",
      "----------------------------\n",
      "Total Months: 86\n",
      "Total: $38382578.00\n",
      "Average Change: $446309.05\n",
      "Greatest Increase in Profits: Feb-2012 (1170593)\n",
      "Greatest Decrease in Profits: Sep-2013 (-1196225)\n"
     ]
    }
   ],
   "source": [
    "# Print results\n",
    "print(\"Financial Analysis\\n----------------------------\")\n",
    "print(f\"Total Months: {total_months}\")\n",
    "print(f\"Total: ${net_total:.2f}\")\n",
    "print(f\"Average Change: ${average:.2f}\")\n",
    "print(f\"Greatest Increase in Profits: {greatest_increase_date} ({greatest_increase_amount})\")\n",
    "print(f\"Greatest Decrease in Profits: {greatest_decrease_date} ({greatest_decrease_amount})\")"
   ]
  },
  {
   "cell_type": "code",
   "execution_count": null,
   "id": "1868ae05-c7ce-4c72-b8f2-2e35ed4871f1",
   "metadata": {},
   "outputs": [],
   "source": []
  }
 ],
 "metadata": {
  "kernelspec": {
   "display_name": "Python 3 (ipykernel)",
   "language": "python",
   "name": "python3"
  },
  "language_info": {
   "codemirror_mode": {
    "name": "ipython",
    "version": 3
   },
   "file_extension": ".py",
   "mimetype": "text/x-python",
   "name": "python",
   "nbconvert_exporter": "python",
   "pygments_lexer": "ipython3",
   "version": "3.7.11"
  }
 },
 "nbformat": 4,
 "nbformat_minor": 5
}
