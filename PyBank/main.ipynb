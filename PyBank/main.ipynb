{
 "cells": [
  {
   "cell_type": "code",
   "execution_count": 135,
   "id": "9697d28c-890d-4b9d-aa97-c9b026432061",
   "metadata": {},
   "outputs": [],
   "source": [
    "# imports\n",
    "from pathlib import Path\n",
    "import csv\n",
    "csv_path = Path(\"./budget_data.csv\")"
   ]
  },
  {
   "cell_type": "code",
   "execution_count": 136,
   "id": "2e0947f6-da63-4d69-96b6-a97d485f8342",
   "metadata": {},
   "outputs": [],
   "source": [
    "# Variables\n",
    "total_months = 0\n",
    "net_total = 0\n",
    "average = 0\n",
    "previous_amount = 0\n",
    "change = 0\n",
    "changes = []\n",
    "total_changes = 0\n",
    "change_count = 0\n",
    "greatest_increase_amount = 0\n",
    "greatest_decrease_amount = 0\n",
    "greatest_increase_date = 0\n",
    "greatest_decrease_date = 0"
   ]
  },
  {
   "cell_type": "code",
   "execution_count": 137,
   "id": "0a76514a-1857-4e30-93d1-c9e98583f449",
   "metadata": {},
   "outputs": [],
   "source": [
    "# Read CSV and skip header\n",
    "with open(csv_path, 'r') as csv_file:\n",
    "    csv_reader = csv.reader(csv_file, delimiter = ',')\n",
    "    csv_header = next(csv_reader)\n",
    "    \n",
    "    # Loop\n",
    "    for i in csv_reader:\n",
    "        total_months += 1\n",
    "        month = i[0]\n",
    "        amount = i[1]\n",
    "        int_amount = int(amount)\n",
    "        change = int_amount - previous_amount\n",
    "        changes.append(change)\n",
    "        \n",
    "        if greatest_increase_amount < change:\n",
    "            greatest_increase_amount = change\n",
    "            greatest_increase_date = month\n",
    "            \n",
    "        if greatest_decrease_amount > change:\n",
    "            greatest_decrease_amount = change\n",
    "            greatest_decrease_date = month\n",
    "            \n",
    "        previous_amount = int_amount\n",
    "        \n",
    "        net_total += int_amount\n",
    "        \n",
    "    total_changes = sum(changes)\n",
    "    change_count = len(changes)\n",
    "    average = total_changes / change_count"
   ]
  },
  {
   "cell_type": "code",
   "execution_count": 138,
   "id": "00f80801-134c-43ac-bac3-99e6c77f1b44",
   "metadata": {},
   "outputs": [
    {
     "name": "stdout",
     "output_type": "stream",
     "text": [
      "Financial Analysis\n",
      "----------------------------\n",
      "Total Months: 86\n",
      "Total: $38382578.00\n",
      "Average Change: $7803.48\n",
      "Greatest Increase in Profits: Feb-2012 ($1926159.00)\n",
      "Greatest Decrease in Profits: Sep-2013 ($-2196167.00)\n"
     ]
    }
   ],
   "source": [
    "# Print results\n",
    "print(\"Financial Analysis\\n----------------------------\")\n",
    "print(f\"Total Months: {total_months}\")\n",
    "print(f\"Total: ${net_total:.2f}\")\n",
    "print(f\"Average Change: ${average:.2f}\")\n",
    "print(f\"Greatest Increase in Profits: {greatest_increase_date} (${greatest_increase_amount:.2f})\")\n",
    "print(f\"Greatest Decrease in Profits: {greatest_decrease_date} (${greatest_decrease_amount:.2f})\")"
   ]
  },
  {
   "cell_type": "code",
   "execution_count": 139,
   "id": "1868ae05-c7ce-4c72-b8f2-2e35ed4871f1",
   "metadata": {},
   "outputs": [],
   "source": [
    "# Export analysis to text file\n",
    "summary_path = Path(\"summary.txt\")\n",
    "with open(summary_path, \"w\") as summary_f:\n",
    "    summary_f.write(\"Financial Analysis\\n----------------------------\")\n",
    "    summary_f.write(f\"Total Months: {total_months}\")\n",
    "    summary_f.write(f\"Total: ${net_total:.2f}\")\n",
    "    summary_f.write(f\"Average Change: ${average:.2f}\")\n",
    "    summary_f.write(f\"Greatest Increase in Profits: {greatest_increase_date} (${greatest_increase_amount:.2f})\")\n",
    "    summary_f.write(f\"Greatest Decrease in Profits: {greatest_decrease_date} (${greatest_decrease_amount:.2f})\")"
   ]
  },
  {
   "cell_type": "code",
   "execution_count": null,
   "id": "9a4e350c-664d-46d1-a233-f4d3762f97b8",
   "metadata": {},
   "outputs": [],
   "source": []
  }
 ],
 "metadata": {
  "kernelspec": {
   "display_name": "Python 3 (ipykernel)",
   "language": "python",
   "name": "python3"
  },
  "language_info": {
   "codemirror_mode": {
    "name": "ipython",
    "version": 3
   },
   "file_extension": ".py",
   "mimetype": "text/x-python",
   "name": "python",
   "nbconvert_exporter": "python",
   "pygments_lexer": "ipython3",
   "version": "3.7.11"
  }
 },
 "nbformat": 4,
 "nbformat_minor": 5
}
