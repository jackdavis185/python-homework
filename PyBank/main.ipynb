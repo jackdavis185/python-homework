{
 "cells": [
  {
   "cell_type": "code",
   "execution_count": 1,
   "id": "9697d28c-890d-4b9d-aa97-c9b026432061",
   "metadata": {},
   "outputs": [],
   "source": [
    "# imports\n",
    "from pathlib import Path\n",
    "import csv\n",
    "csvpath = Path(\"./budget_data.csv\")"
   ]
  },
  {
   "cell_type": "code",
   "execution_count": 2,
   "id": "b465555e-7138-481b-b8b4-62a3973a49ab",
   "metadata": {},
   "outputs": [],
   "source": [
    "# CSV dictionary\n",
    "budget_data = {}"
   ]
  },
  {
   "cell_type": "code",
   "execution_count": null,
   "id": "2e0947f6-da63-4d69-96b6-a97d485f8342",
   "metadata": {},
   "outputs": [],
   "source": [
    "# Variables\n",
    "total_months = 0\n",
    "net_total = 0.0\n",
    "average = 0.0\n",
    "greatest_increase_date = None\n",
    "greatest_increase_amount = 0.0\n",
    "greatest_decrease_date = None\n",
    "greates_decrease_amount = 0.0"
   ]
  }
 ],
 "metadata": {
  "kernelspec": {
   "display_name": "Python 3 (ipykernel)",
   "language": "python",
   "name": "python3"
  },
  "language_info": {
   "codemirror_mode": {
    "name": "ipython",
    "version": 3
   },
   "file_extension": ".py",
   "mimetype": "text/x-python",
   "name": "python",
   "nbconvert_exporter": "python",
   "pygments_lexer": "ipython3",
   "version": "3.7.11"
  }
 },
 "nbformat": 4,
 "nbformat_minor": 5
}
